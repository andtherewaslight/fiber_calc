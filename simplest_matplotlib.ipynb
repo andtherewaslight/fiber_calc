{
 "cells": [
  {
   "cell_type": "code",
   "execution_count": 1,
   "metadata": {},
   "outputs": [
    {
     "data": {
      "application/vnd.jupyter.widget-view+json": {
       "model_id": "e26e49c980c04323bbcca1b5215319b7",
       "version_major": 2,
       "version_minor": 0
      },
      "text/plain": [
       "HBox(children=(Label(value='hola'), Output(layout=Layout(height='300px', width='300px'))))"
      ]
     },
     "metadata": {},
     "output_type": "display_data"
    }
   ],
   "source": [
    "import matplotlib.pyplot as plt\n",
    "import numpy as np\n",
    "import ipywidgets as widgets\n",
    "%matplotlib inline\n",
    "plt.style.use(\"bmh\")\n",
    "\n",
    "\n",
    "x=np.linspace(0,10,100)\n",
    "y=np.sin(x)\n",
    "\n",
    "\n",
    "\n",
    "\n",
    "output = widgets.Output()\n",
    "output.layout.width = '300px'\n",
    "output.layout.height = '300px'\n",
    "with output:\n",
    "    fig, ax = plt.subplots(figsize = (3,2))\n",
    "    line, = plt.plot(x,y)\n",
    "\n",
    "    plt.show(fig)\n",
    "\n",
    "\n",
    "\n",
    "my_box = widgets.HBox([widgets.Label('hola'), output])    \n",
    "display(my_box)\n"
   ]
  },
  {
   "cell_type": "code",
   "execution_count": null,
   "metadata": {},
   "outputs": [],
   "source": []
  }
 ],
 "metadata": {
  "kernelspec": {
   "display_name": "Python 3",
   "language": "python",
   "name": "python3"
  },
  "language_info": {
   "codemirror_mode": {
    "name": "ipython",
    "version": 3
   },
   "file_extension": ".py",
   "mimetype": "text/x-python",
   "name": "python",
   "nbconvert_exporter": "python",
   "pygments_lexer": "ipython3",
   "version": "3.8.5"
  }
 },
 "nbformat": 4,
 "nbformat_minor": 2
}
