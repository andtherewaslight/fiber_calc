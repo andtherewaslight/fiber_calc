{
 "cells": [
  {
   "cell_type": "code",
   "execution_count": 1,
   "metadata": {},
   "outputs": [],
   "source": [
    "import matplotlib.pyplot as plt\n",
    "import numpy as np\n",
    "\n",
    "from ipywidgets import interactive, Layout, HBox, Output, Button, VBox, IntSlider, Text\n",
    "\n",
    "%matplotlib inline"
   ]
  },
  {
   "cell_type": "code",
   "execution_count": 2,
   "metadata": {},
   "outputs": [],
   "source": [
    "plt.style.use(\"bmh\")"
   ]
  },
  {
   "cell_type": "code",
   "execution_count": 3,
   "metadata": {},
   "outputs": [
    {
     "data": {
      "application/vnd.jupyter.widget-view+json": {
       "model_id": "90bea13459b74c4391e60cae506c6df0",
       "version_major": 2,
       "version_minor": 0
      },
      "text/plain": [
       "HBox(children=(Button(description='Change Plot', style=ButtonStyle()), Output(layout=Layout(border='solid 1px'…"
      ]
     },
     "metadata": {},
     "output_type": "display_data"
    }
   ],
   "source": [
    "def plot_graph():\n",
    "    fig, ax = plt.subplots(figsize = (2.8, 2))\n",
    "    fig.canvas.toolbar_visible = False\n",
    "    fig.canvas.resizable = False\n",
    "    fig.canvas.header_visible = False\n",
    "    fig.canvas.footer_visible = False\n",
    "    \n",
    "    x = np.linspace(0, 10, 100)\n",
    "    y = np.sin(x)\n",
    "    \n",
    "    offset = plot_graph.counter\n",
    "    plt.plot(x, y + offset)\n",
    "\n",
    "    plt.tight_layout()\n",
    "    plt.show()\n",
    "    \n",
    "    plot_graph.counter += 1\n",
    "    \n",
    "# Add a new member dynamically (Monkey Patching)\n",
    "plot_graph.counter = 0\n",
    "\n",
    "# Create button with event on_click automatically with interactive\n",
    "output = interactive(plot_graph, {'manual':True, 'manual_name':'Change Plot'})\n",
    "button, out = output.children\n",
    "\n",
    "# Make additional adjustments\n",
    "out.layout = layout=Layout(width = '300px', height = '300px', border = 'solid 1px')\n",
    "\n",
    "# Combine Children in a single Display\n",
    "my_box = HBox([button, out], layout=Layout(border = 'solid 1px'))\n",
    "display(my_box)"
   ]
  },
  {
   "cell_type": "markdown",
   "metadata": {},
   "source": [
    "# Multiple variables need to be updated"
   ]
  },
  {
   "cell_type": "code",
   "execution_count": 4,
   "metadata": {},
   "outputs": [
    {
     "data": {
      "application/vnd.jupyter.widget-view+json": {
       "model_id": "608aa8b78ef3443c957cac527542d3f0",
       "version_major": 2,
       "version_minor": 0
      },
      "text/plain": [
       "HBox(children=(Button(description='Change Plot', style=ButtonStyle()), Output(layout=Layout(border='solid 1px'…"
      ]
     },
     "metadata": {},
     "output_type": "display_data"
    }
   ],
   "source": [
    "def update_state_1(state):\n",
    "    state[\"counter\"] += 1\n",
    "    return state\n",
    "\n",
    "def plot_graph_alternative():\n",
    "    plot_graph_alternative.state = update_state_1(plot_graph_alternative.state)\n",
    "    \n",
    "    fig, ax = plt.subplots(figsize = (2.8, 2))\n",
    "    fig.canvas.toolbar_visible = False\n",
    "    fig.canvas.resizable = False\n",
    "    fig.canvas.header_visible = False\n",
    "    fig.canvas.footer_visible = False\n",
    "    \n",
    "    x = np.linspace(0, 10, 100)\n",
    "    y = np.sin(x)\n",
    "    \n",
    "    offset = plot_graph_alternative.state[\"counter\"]\n",
    "    plt.plot(x, y + offset)\n",
    "\n",
    "    plt.tight_layout()\n",
    "    plt.show()\n",
    "    \n",
    "    \n",
    "# Add a new member dynamically (Monkey Patching)\n",
    "plot_graph_alternative.state = {\n",
    "    \"counter\": 0\n",
    "}\n",
    "\n",
    "# Create button with event on_click automatically with interactive\n",
    "output = interactive(plot_graph_alternative, {'manual':True, 'manual_name':'Change Plot'})\n",
    "button, out = output.children\n",
    "\n",
    "# Make additional adjustments\n",
    "out.layout = layout=Layout(width = '300px', height = '300px', border = 'solid 1px')\n",
    "\n",
    "# Combine Children in a single Display\n",
    "my_box = HBox([button, out], layout=Layout(border = 'solid 1px'))\n",
    "display(my_box)"
   ]
  },
  {
   "cell_type": "markdown",
   "metadata": {},
   "source": [
    "# Add Sliders"
   ]
  },
  {
   "cell_type": "code",
   "execution_count": 5,
   "metadata": {},
   "outputs": [
    {
     "data": {
      "application/vnd.jupyter.widget-view+json": {
       "model_id": "0f98f1e0392b408189bec4a2f5acdeee",
       "version_major": 2,
       "version_minor": 0
      },
      "text/plain": [
       "VBox(children=(IntSlider(value=1, description='offset_step', max=3, min=-1), HBox(children=(Button(description…"
      ]
     },
     "metadata": {},
     "output_type": "display_data"
    }
   ],
   "source": [
    "def update_state_2(state, offset):\n",
    "    state[\"counter\"] += offset\n",
    "    return state\n",
    "\n",
    "def plot_graph_slider(offset_step=1):\n",
    "    plot_graph_slider.state = update_state_2(plot_graph_slider.state, offset_step)\n",
    "    \n",
    "    fig, ax = plt.subplots(figsize = (2.8, 2))\n",
    "    fig.canvas.toolbar_visible = False\n",
    "    fig.canvas.resizable = False\n",
    "    fig.canvas.header_visible = False\n",
    "    fig.canvas.footer_visible = False\n",
    "    \n",
    "    x = np.linspace(0, 10, 100)\n",
    "    y = np.sin(x)\n",
    "    \n",
    "    offset = plot_graph_slider.state[\"counter\"]\n",
    "    plt.plot(x, y + offset)\n",
    "\n",
    "    plt.tight_layout()\n",
    "    plt.show()\n",
    "    \n",
    "    \n",
    "# Add a new member dynamically (Monkey Patching)\n",
    "plot_graph_slider.state = {\n",
    "    \"counter\": 0\n",
    "}\n",
    "\n",
    "# Create button with event on_click automatically with interactive\n",
    "output = interactive(plot_graph_slider, {'manual':True, 'manual_name':'Change Plot'})\n",
    "*rest, button, out = output.children\n",
    "\n",
    "# Make additional adjustments\n",
    "out.layout = layout=Layout(width = '300px', height = '300px', border = 'solid 1px')\n",
    "\n",
    "# Combine Children in a single Display\n",
    "horizontal_box = HBox([button, out], layout=Layout(border = 'solid 1px'))\n",
    "vertial_box = VBox([*rest, horizontal_box])\n",
    "\n",
    "display(vertial_box)"
   ]
  },
  {
   "cell_type": "markdown",
   "metadata": {},
   "source": [
    "# Observe on Slider Change"
   ]
  },
  {
   "cell_type": "code",
   "execution_count": 6,
   "metadata": {},
   "outputs": [
    {
     "data": {
      "application/vnd.jupyter.widget-view+json": {
       "model_id": "f94500f63f9d4584b38539fa8f486832",
       "version_major": 2,
       "version_minor": 0
      },
      "text/plain": [
       "VBox(children=(HBox(children=(IntSlider(value=1, description='offset_step', max=5, min=-5), Text(value='The cu…"
      ]
     },
     "metadata": {},
     "output_type": "display_data"
    }
   ],
   "source": [
    "def update_state_3(state, offset):\n",
    "    state[\"counter\"] += offset\n",
    "    return state\n",
    "\n",
    "def plot_graph_observe(offset_step=1):\n",
    "    plot_graph_observe.state = update_state_3(plot_graph_observe.state, offset_step)\n",
    "    \n",
    "    fig, ax = plt.subplots(figsize = (2.8, 2))\n",
    "    fig.canvas.toolbar_visible = False\n",
    "    fig.canvas.resizable = False\n",
    "    fig.canvas.header_visible = False\n",
    "    fig.canvas.footer_visible = False\n",
    "    \n",
    "    x = np.linspace(0, 10, 100)\n",
    "    y = np.sin(x)\n",
    "    \n",
    "    offset = plot_graph_observe.state[\"counter\"]\n",
    "    plt.plot(x, y + offset)\n",
    "\n",
    "    plt.tight_layout()\n",
    "    plt.show()\n",
    "    \n",
    "    \n",
    "# Add a new member dynamically (Monkey Patching)\n",
    "plot_graph_observe.state = {\n",
    "    \"counter\": 0\n",
    "}\n",
    "\n",
    "# Create button with event on_click automatically with interactive\n",
    "offset_step = IntSlider(min=-5, max=5, value=1, step=1)\n",
    "output = interactive(plot_graph_observe, {'manual':True, 'manual_name':'Change Plot'}, offset_step=offset_step)\n",
    "*_, button, out = output.children # We can ignore all other children\n",
    "\n",
    "# Make additional adjustments\n",
    "out.layout = layout=Layout(width = '300px', height = '300px', border = 'solid 1px')\n",
    "\n",
    "# Combine Children in a single Display\n",
    "horizontal_box = HBox([button, out], layout=Layout(border = 'solid 1px'))\n",
    "\n",
    "# Partial evaluation is needed to avoid global variables\n",
    "from functools import partial\n",
    "\n",
    "def update_text(offset_value, text_widget):\n",
    "    text_widget.value = f\"The current offset is: {offset_value.new}\"\n",
    "\n",
    "computed_value = Text(f\"The current offset is: {offset_step.value}\")\n",
    "\n",
    "# Partial creates a new function with some parameters fixed, in this case the widget\n",
    "offset_step.observe(partial(update_text, text_widget=computed_value), names='value')\n",
    "\n",
    "header_box = HBox([offset_step, computed_value])\n",
    "vertial_box = VBox([header_box, horizontal_box])\n",
    "\n",
    "display(vertial_box)"
   ]
  },
  {
   "cell_type": "code",
   "execution_count": null,
   "metadata": {},
   "outputs": [],
   "source": []
  }
 ],
 "metadata": {
  "kernelspec": {
   "display_name": "Python 3",
   "language": "python",
   "name": "python3"
  },
  "language_info": {
   "codemirror_mode": {
    "name": "ipython",
    "version": 3
   },
   "file_extension": ".py",
   "mimetype": "text/x-python",
   "name": "python",
   "nbconvert_exporter": "python",
   "pygments_lexer": "ipython3",
   "version": "3.8.5"
  }
 },
 "nbformat": 4,
 "nbformat_minor": 4
}
