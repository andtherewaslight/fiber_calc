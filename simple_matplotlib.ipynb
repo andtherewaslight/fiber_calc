{
 "cells": [
  {
   "cell_type": "code",
   "execution_count": 7,
   "metadata": {},
   "outputs": [
    {
     "data": {
      "application/vnd.jupyter.widget-view+json": {
       "model_id": "843a2e1631df4066b6e924e7e0e962c1",
       "version_major": 2,
       "version_minor": 0
      },
      "text/plain": [
       "HBox(children=(Button(description='Change Plot', style=ButtonStyle()), Output(layout=Layout(border='solid 1px'…"
      ]
     },
     "metadata": {},
     "output_type": "display_data"
    }
   ],
   "source": [
    "import matplotlib.pyplot as plt\n",
    "import numpy as np\n",
    "import ipywidgets as widgets\n",
    "%matplotlib widget\n",
    "\n",
    "x=np.linspace(0,10,100)\n",
    "y=np.sin(x)\n",
    "\n",
    "btn = widgets.Button(description='Change Plot')\n",
    "\n",
    "\n",
    "\n",
    "output = widgets.Output()\n",
    "output.layout.width = '300px'\n",
    "output.layout.height = '300px'\n",
    "output.layout.border = 'solid 1px'\n",
    "with output:\n",
    "    fig, ax = plt.subplots(figsize = (2.8,2))\n",
    "    plt.tight_layout()\n",
    "    fig.canvas.toolbar_visible = False\n",
    "    fig.canvas.resizable = False\n",
    "    fig.canvas.header_visible = False\n",
    "    fig.canvas.footer_visible = False\n",
    "    ax.grid(True)\n",
    "\n",
    "\n",
    "line, = plt.plot(x,y)\n",
    "\n",
    "my_box = widgets.HBox([btn, output])\n",
    "my_box.layout.border='solid 1px'\n",
    "\n",
    "class counter:\n",
    "    def __init__(self):\n",
    "        self.ii = 0\n",
    "\n",
    "cnt=counter()\n",
    "\n",
    "\n",
    "def change_plot(obj):\n",
    "    cnt.ii += .1\n",
    "    line.set_ydata(y+cnt.ii)\n",
    "  \n",
    "\n",
    "btn.on_click(change_plot)\n",
    "\n",
    "display(my_box)\n"
   ]
  },
  {
   "cell_type": "code",
   "execution_count": null,
   "metadata": {},
   "outputs": [],
   "source": []
  }
 ],
 "metadata": {
  "kernelspec": {
   "display_name": "Python 3",
   "language": "python",
   "name": "python3"
  },
  "language_info": {
   "codemirror_mode": {
    "name": "ipython",
    "version": 3
   },
   "file_extension": ".py",
   "mimetype": "text/x-python",
   "name": "python",
   "nbconvert_exporter": "python",
   "pygments_lexer": "ipython3",
   "version": "3.8.5"
  }
 },
 "nbformat": 4,
 "nbformat_minor": 2
}
