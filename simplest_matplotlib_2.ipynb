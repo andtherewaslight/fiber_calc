{
 "cells": [
  {
   "cell_type": "code",
   "execution_count": 5,
   "metadata": {},
   "outputs": [
    {
     "data": {
      "application/vnd.jupyter.widget-view+json": {
       "model_id": "3fe98e86e082483388b5927a6360219a",
       "version_major": 2,
       "version_minor": 0
      },
      "text/plain": [
       "HBox(children=(Button(description='Plot me', style=ButtonStyle()), Output()))"
      ]
     },
     "metadata": {},
     "output_type": "display_data"
    }
   ],
   "source": [
    "import matplotlib.pyplot as plt\n",
    "import numpy as np\n",
    "import ipywidgets as widgets\n",
    "%matplotlib inline\n",
    "plt.style.use(\"bmh\")\n",
    "\n",
    "\n",
    "x=np.linspace(0,10,100)\n",
    "y=np.sin(x)\n",
    "\n",
    "btn = widgets.Button(description = 'Plot me')\n",
    "\n",
    "def f(obj):\n",
    "    obj.out.clear_output()\n",
    "    with obj.out:\n",
    "         fig, ax = plt.subplots(figsize = (2.8, 2))\n",
    "         ax.plot(x,y+obj.cnt)\n",
    "         plt.show(fig)\n",
    "    obj.cnt += 1\n",
    "        \n",
    "    \n",
    "\n",
    "\n",
    "btn.out = widgets.Output()\n",
    "btn.cnt = 0\n",
    "btn.on_click(f)\n",
    "\n",
    "\n",
    "\n",
    "my_box = widgets.HBox([btn, btn.out])    \n",
    "display(my_box)\n"
   ]
  }
 ],
 "metadata": {
  "kernelspec": {
   "display_name": "Python 3",
   "language": "python",
   "name": "python3"
  },
  "language_info": {
   "codemirror_mode": {
    "name": "ipython",
    "version": 3
   },
   "file_extension": ".py",
   "mimetype": "text/x-python",
   "name": "python",
   "nbconvert_exporter": "python",
   "pygments_lexer": "ipython3",
   "version": "3.8.5"
  }
 },
 "nbformat": 4,
 "nbformat_minor": 2
}
