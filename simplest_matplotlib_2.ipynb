{
 "cells": [
  {
   "cell_type": "code",
   "execution_count": 8,
   "metadata": {},
   "outputs": [
    {
     "data": {
      "application/vnd.jupyter.widget-view+json": {
       "model_id": "4035661178354486a0c03732961b5b57",
       "version_major": 2,
       "version_minor": 0
      },
      "text/plain": [
       "VBox(children=(Button(description='Plot me', style=ButtonStyle()),), layout=Layout(border='solid 1px', height=…"
      ]
     },
     "metadata": {},
     "output_type": "display_data"
    }
   ],
   "source": [
    "import matplotlib.pyplot as plt\n",
    "import numpy as np\n",
    "import ipywidgets as widgets\n",
    "%matplotlib inline\n",
    "plt.style.use(\"bmh\")\n",
    "\n",
    "\n",
    "x=np.linspace(0,10,100)\n",
    "y=np.sin(x)\n",
    "\n",
    "btn = widgets.Button(description = 'Plot me')\n",
    "\n",
    "def f(obj):\n",
    "    #obj.out.clear_output()\n",
    "    obj.out_list.append(widgets.Output())\n",
    "    with obj.out_list[-1]:\n",
    "         fig, ax = plt.subplots(figsize = (2.8, 2))\n",
    "         ax.plot(x,y+obj.cnt)\n",
    "         plt.show(fig)\n",
    "    obj.cnt += 1\n",
    "    obj.my_box.children = [btn]+obj.out_list\n",
    "        \n",
    "    \n",
    "\n",
    "\n",
    "btn.out_list = []\n",
    "\n",
    "\n",
    "btn.cnt = 0\n",
    "btn.on_click(f)\n",
    "\n",
    "\n",
    "mode_list_layout = widgets.Layout(width='300px', height='', border='solid 1px')\n",
    "btn.my_box = widgets.VBox([btn]+btn.out_list, layout = mode_list_layout)    \n",
    "display(btn.my_box)\n"
   ]
  },
  {
   "cell_type": "code",
   "execution_count": null,
   "metadata": {},
   "outputs": [],
   "source": []
  }
 ],
 "metadata": {
  "kernelspec": {
   "display_name": "Python 3",
   "language": "python",
   "name": "python3"
  },
  "language_info": {
   "codemirror_mode": {
    "name": "ipython",
    "version": 3
   },
   "file_extension": ".py",
   "mimetype": "text/x-python",
   "name": "python",
   "nbconvert_exporter": "python",
   "pygments_lexer": "ipython3",
   "version": "3.8.5"
  }
 },
 "nbformat": 4,
 "nbformat_minor": 2
}
